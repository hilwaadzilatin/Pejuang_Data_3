{
  "nbformat": 4,
  "nbformat_minor": 0,
  "metadata": {
    "colab": {
      "name": "M3P1V2_Perulangan_For_dan_While.ipynb",
      "provenance": []
    },
    "kernelspec": {
      "name": "python3",
      "display_name": "Python 3"
    },
    "language_info": {
      "name": "python"
    }
  },
  "cells": [
    {
      "cell_type": "markdown",
      "metadata": {
        "id": "X46jwG7kfOzg"
      },
      "source": [
        "#Looping/Perulangan"
      ]
    },
    {
      "cell_type": "markdown",
      "metadata": {
        "id": "7FN3VOdAfXNd"
      },
      "source": [
        "Python menyediakan dua statement untuk melakukan proses perulangan yaitu for dan while. Diantara kedua statement ini, secara umum for lebih banyak digunakan daripada while."
      ]
    },
    {
      "cell_type": "markdown",
      "metadata": {
        "id": "GorJEWFZfs3W"
      },
      "source": [
        "###For Loop"
      ]
    },
    {
      "cell_type": "markdown",
      "metadata": {
        "id": "IOU-jI1Dfsgc"
      },
      "source": [
        "Perulangan `for` digunakan untuk melakukan iterasi di dalam `sequence` seperti `list`, `tuple`, `string`, dan `array` atau objek yang dapat diiterasi lainnya."
      ]
    },
    {
      "cell_type": "markdown",
      "metadata": {
        "id": "mCXY7selgG8u"
      },
      "source": [
        "For Loop Syntax"
      ]
    },
    {
      "cell_type": "code",
      "metadata": {
        "id": "HFOO42bqc7Sy"
      },
      "source": [
        "for val in sequence:\n",
        "  loop body"
      ],
      "execution_count": null,
      "outputs": []
    },
    {
      "cell_type": "markdown",
      "metadata": {
        "id": "A8jANQkVgQ7g"
      },
      "source": [
        "For Loop Flowchart"
      ]
    },
    {
      "cell_type": "markdown",
      "metadata": {
        "id": "IrU9gG8xQIZk"
      },
      "source": [
        "![loop flowchart.jpg](data:image/jpeg;base64,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)"
      ]
    },
    {
      "cell_type": "markdown",
      "metadata": {
        "id": "kG-mIs_igV8P"
      },
      "source": [
        "Example: Python for Loop"
      ]
    },
    {
      "cell_type": "code",
      "metadata": {
        "colab": {
          "base_uri": "https://localhost:8080/"
        },
        "id": "zjeDnPBpgw75",
        "outputId": "9ae762b4-5cb7-47f0-af4e-2569df56f4ce"
      },
      "source": [
        "# Program untuk menghitung jumlah semua angka dalam sebuah list\n",
        "L1 = [2, 4, 5, 7, 9]\n",
        "jumlah = 0\n",
        "\n",
        "# iterasi di dalam list\n",
        "for i in L1:\n",
        "  jumlah = jumlah + i\n",
        "\n",
        "print(jumlah)"
      ],
      "execution_count": null,
      "outputs": [
        {
          "output_type": "stream",
          "name": "stdout",
          "text": [
            "27\n"
          ]
        }
      ]
    },
    {
      "cell_type": "markdown",
      "metadata": {
        "id": "xDB5ZN5bhZN_"
      },
      "source": [
        "**The range() function**"
      ]
    },
    {
      "cell_type": "code",
      "metadata": {
        "colab": {
          "base_uri": "https://localhost:8080/"
        },
        "id": "5r_scScqhdP3",
        "outputId": "c4adf51a-523a-4fd7-a87a-825a052b3ed2"
      },
      "source": [
        "# Program untuk melakukan iterasi di dalam list melalui indeks\n",
        "minuman = [\"teh\", \"boba\", \"kopi\", \"susu\"]\n",
        "p = len(minuman)\n",
        "\n",
        "# iterasi di dalam list melalui indeks\n",
        "for i in range(p):\n",
        "  print(minuman[i])"
      ],
      "execution_count": null,
      "outputs": [
        {
          "output_type": "stream",
          "name": "stdout",
          "text": [
            "teh\n",
            "boba\n",
            "kopi\n",
            "susu\n"
          ]
        }
      ]
    },
    {
      "cell_type": "markdown",
      "metadata": {
        "id": "rfBqKEw1h7IT"
      },
      "source": [
        "for loop with else"
      ]
    },
    {
      "cell_type": "code",
      "metadata": {
        "colab": {
          "base_uri": "https://localhost:8080/"
        },
        "id": "QxjhttECh9Av",
        "outputId": "c0737883-2756-4a3d-f45c-666b729188d3"
      },
      "source": [
        "#Contoh for Loop menggunakan else\n",
        "for i in range(p):\n",
        "  print(minuman[i])\n",
        "else:\n",
        "  print(\"Elemen sudah habis\")"
      ],
      "execution_count": null,
      "outputs": [
        {
          "output_type": "stream",
          "name": "stdout",
          "text": [
            "teh\n",
            "boba\n",
            "kopi\n",
            "susu\n",
            "Elemen sudah habis\n"
          ]
        }
      ]
    },
    {
      "cell_type": "markdown",
      "metadata": {
        "id": "AqhDnld_yRRF"
      },
      "source": [
        "###Latihan 1"
      ]
    },
    {
      "cell_type": "markdown",
      "metadata": {
        "id": "uaSZ7vcxyTWw"
      },
      "source": [
        "Diberikan `list_tagihan`. Kamu diminta untuk menghitung jumlah seluruh tagihan. Gunakan `for` untuk menyelesaikan tugas ini! Simpan hasilnya pada variabel `total_tagihan`"
      ]
    },
    {
      "cell_type": "code",
      "metadata": {
        "id": "GXJkSXguySiY"
      },
      "source": [
        "list_tagihan = [50000, 75000, -150000, 125000, 300000, -50000, 200000]"
      ],
      "execution_count": 1,
      "outputs": []
    },
    {
      "cell_type": "code",
      "metadata": {
        "colab": {
          "base_uri": "https://localhost:8080/"
        },
        "id": "1RW95iDcyt8o",
        "outputId": "17f1fe77-575c-4412-b841-e77dfbf756bf"
      },
      "source": [
        "# tuliskan kode kalian\n",
        "\n",
        "list_tagihan = [50000, 75000, -150000, 125000, 300000, -50000, 200000]\n",
        "jumlah = 0\n",
        "\n",
        "# iterasi di dalam list\n",
        "for i in list_tagihan:\n",
        "  jumlah = jumlah + i\n",
        "\n",
        "total_tagihan = jumlah\n",
        "print(\"Total tagihan sebanyak: \", total_tagihan)"
      ],
      "execution_count": 2,
      "outputs": [
        {
          "output_type": "stream",
          "name": "stdout",
          "text": [
            "Total tagihan sebanyak:  550000\n"
          ]
        }
      ]
    },
    {
      "cell_type": "markdown",
      "metadata": {
        "id": "7a6TyRBqyvz0"
      },
      "source": [
        "###**While Loop**"
      ]
    },
    {
      "cell_type": "markdown",
      "metadata": {
        "id": "ZRcZjCRuy09I"
      },
      "source": [
        "While loop pada Python digunakan untuk melakukan iterasi pada blok kode selama nilai dari `test expression` adalah `true`."
      ]
    },
    {
      "cell_type": "markdown",
      "metadata": {
        "id": "wXepkuVfzDrt"
      },
      "source": [
        "Syntax of while Loop in Python"
      ]
    },
    {
      "cell_type": "code",
      "metadata": {
        "id": "_koTY7LXy0Hi"
      },
      "source": [
        "while test_expression:\n",
        "  Body of while"
      ],
      "execution_count": null,
      "outputs": []
    },
    {
      "cell_type": "markdown",
      "metadata": {
        "id": "BL1XZ6u8zLyM"
      },
      "source": [
        "While Loop Flowchart"
      ]
    },
    {
      "cell_type": "markdown",
      "metadata": {
        "id": "8uppZiTdTeFo"
      },
      "source": [
        "![whileLoopFlowchart.jpg](data:image/jpeg;base64,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)"
      ]
    },
    {
      "cell_type": "markdown",
      "metadata": {
        "id": "_g-i0rgRzRh7"
      },
      "source": [
        "Example: Python While Loop"
      ]
    },
    {
      "cell_type": "code",
      "metadata": {
        "colab": {
          "base_uri": "https://localhost:8080/"
        },
        "id": "SBzEoGi4zVV9",
        "outputId": "9fd4f013-9906-488b-ab19-2ec53c4ffd00"
      },
      "source": [
        "# Program untuk menjumlahkan semua bilangan asli hingga suku ke-n\n",
        "# jum = 1+2+3+...+n\n",
        "\n",
        "n = 10\n",
        "jumlah = 0\n",
        "i = 1\n",
        "\n",
        "while i <= n:\n",
        "  jumlah = jumlah + i\n",
        "  i = i + 1\n",
        "\n",
        "print(jumlah)"
      ],
      "execution_count": null,
      "outputs": [
        {
          "output_type": "stream",
          "name": "stdout",
          "text": [
            "55\n"
          ]
        }
      ]
    },
    {
      "cell_type": "markdown",
      "metadata": {
        "id": "EgadF1xvzpoN"
      },
      "source": [
        "###**While Loop with Else**"
      ]
    },
    {
      "cell_type": "markdown",
      "metadata": {
        "id": "p1x9FllfztUb"
      },
      "source": [
        "Sama dengan `for` loop kita juga dapat mengkombinasikan `while` loop dengan blok `else`.\n",
        "\n",
        "Bagian `else` akan dieksekusi jika nilai pada `test expression` pada `while loop` bernilai `False`. Perhatikan contoh berikut:"
      ]
    },
    {
      "cell_type": "code",
      "metadata": {
        "colab": {
          "base_uri": "https://localhost:8080/"
        },
        "id": "M_rTy45rzsx7",
        "outputId": "338e8332-d8e0-41b1-8d3c-1b0b702165f0"
      },
      "source": [
        "jum = 0 \n",
        "i = 1\n",
        "while i <= n:\n",
        "  jum = jum + i\n",
        "  i = i + 1\n",
        "else:\n",
        "  print(jum) # dieksekusi diluar looping"
      ],
      "execution_count": null,
      "outputs": [
        {
          "output_type": "stream",
          "name": "stdout",
          "text": [
            "55\n"
          ]
        }
      ]
    },
    {
      "cell_type": "markdown",
      "metadata": {
        "id": "n6Wceut50UQ6"
      },
      "source": [
        "###Latihan 2"
      ]
    },
    {
      "cell_type": "markdown",
      "metadata": {
        "id": "7KuFPPzz0X6x"
      },
      "source": [
        "Diberikan list `tagihan` hitunglah `total_tagihan` menggunakan `while loop`."
      ]
    },
    {
      "cell_type": "code",
      "metadata": {
        "id": "HLFUdp_x0WTB"
      },
      "source": [
        "tagihan = [50000, 75000, 125000, 300000, 200000]"
      ],
      "execution_count": null,
      "outputs": []
    },
    {
      "cell_type": "code",
      "metadata": {
        "id": "EJmiBrlJ0nRz",
        "colab": {
          "base_uri": "https://localhost:8080/"
        },
        "outputId": "665dfe77-5698-4482-91c3-d45ba775667f"
      },
      "source": [
        "# Tuliskan kodemu\n",
        "tagihan = [50000, 75000, 125000, 300000, 200000]\n",
        "p = len(tagihan)\n",
        "total_tagihan = 0 \n",
        "i = 0\n",
        "\n",
        "while i < p:\n",
        "  total_tagihan += tagihan [i]\n",
        "  i = i + 1\n",
        "\n",
        "print(total_tagihan)"
      ],
      "execution_count": 3,
      "outputs": [
        {
          "output_type": "stream",
          "name": "stdout",
          "text": [
            "750000\n"
          ]
        }
      ]
    },
    {
      "cell_type": "code",
      "metadata": {
        "id": "36kIe7fVHQpm"
      },
      "source": [
        ""
      ],
      "execution_count": null,
      "outputs": []
    }
  ]
}