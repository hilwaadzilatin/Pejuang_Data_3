{
  "nbformat": 4,
  "nbformat_minor": 0,
  "metadata": {
    "colab": {
      "name": "M2P1V2_Struktur_Data_List.ipynb",
      "provenance": []
    },
    "kernelspec": {
      "name": "python3",
      "display_name": "Python 3"
    },
    "language_info": {
      "name": "python"
    }
  },
  "cells": [
    {
      "cell_type": "markdown",
      "metadata": {
        "id": "PU5Rub_kEo5e"
      },
      "source": [
        "#List"
      ]
    },
    {
      "cell_type": "markdown",
      "metadata": {
        "id": "m4RflTU_Ewod"
      },
      "source": [
        "List adalah jenis kumpulan data terurut (*ordered sequence*), dan merupakan salah satu variabel yang sering digunakan pada Python. Serupa, namun tak sama dengan array paada bahasa pemrograman lainnya. Bedanya, elemen List pada Python tidak harus memiliki tipe data yang sama. Mendeklarasikan List cukup mudah dengan kurung siku dan elemen yang dipisahkan koma.\n",
        "\n",
        "Setiap data di dalamnya dapat diakses dengan indeks yang dimulai dari 0."
      ]
    },
    {
      "cell_type": "code",
      "metadata": {
        "colab": {
          "base_uri": "https://localhost:8080/"
        },
        "id": "kc29BiK8EJ_y",
        "outputId": "e8958c8b-9a93-482b-842f-16fa78d8313b"
      },
      "source": [
        "#Contoh List\n",
        "L1 = [1, 4, 2, 13]\n",
        "\n",
        "print(type(L1))"
      ],
      "execution_count": 29,
      "outputs": [
        {
          "output_type": "stream",
          "name": "stdout",
          "text": [
            "<class 'list'>\n"
          ]
        }
      ]
    },
    {
      "cell_type": "code",
      "metadata": {
        "colab": {
          "base_uri": "https://localhost:8080/"
        },
        "id": "GuALitJdiHRx",
        "outputId": "8943c574-74d9-479b-9f7c-356d53f32c91"
      },
      "source": [
        "L2 = [\"a\",\"Python\",3]\n",
        "L2"
      ],
      "execution_count": 30,
      "outputs": [
        {
          "output_type": "execute_result",
          "data": {
            "text/plain": [
              "['a', 'Python', 3]"
            ]
          },
          "metadata": {},
          "execution_count": 30
        }
      ]
    },
    {
      "cell_type": "code",
      "metadata": {
        "colab": {
          "base_uri": "https://localhost:8080/"
        },
        "id": "QY53MkdciPfX",
        "outputId": "663db24a-4ef2-4f23-fd24-fa8bbba04dce"
      },
      "source": [
        "print(L1)\n",
        "print(L2)"
      ],
      "execution_count": 31,
      "outputs": [
        {
          "output_type": "stream",
          "name": "stdout",
          "text": [
            "[1, 4, 2, 13]\n",
            "['a', 'Python', 3]\n"
          ]
        }
      ]
    },
    {
      "cell_type": "markdown",
      "metadata": {
        "id": "awkVcowtiZOa"
      },
      "source": [
        "**Latihan 1**"
      ]
    },
    {
      "cell_type": "code",
      "metadata": {
        "colab": {
          "base_uri": "https://localhost:8080/"
        },
        "id": "BAUrIR9diWh2",
        "outputId": "46442562-291a-43ce-b8ee-2d0f5e627590"
      },
      "source": [
        "#Buatlah list kalian sendiri\n",
        "List1 = [0.2, 25, \"tiga\", 0.35]\n",
        "List2 = [\"kalimat\", 4+5j, 2]\n",
        "\n",
        "print(List1)\n",
        "print(type(List1))\n",
        "print(\" \")\n",
        "print(List2)\n",
        "print(type(List2))"
      ],
      "execution_count": 41,
      "outputs": [
        {
          "output_type": "stream",
          "name": "stdout",
          "text": [
            "[0.2, 25, 'tiga', 0.35]\n",
            "<class 'list'>\n",
            " \n",
            "['kalimat', (4+5j), 2]\n",
            "<class 'list'>\n"
          ]
        }
      ]
    },
    {
      "cell_type": "markdown",
      "metadata": {
        "id": "koj4TKUKjwat"
      },
      "source": [
        "Indeks di python(List, Tuple) mulai dari 0"
      ]
    },
    {
      "cell_type": "markdown",
      "metadata": {
        "id": "L50KXQjWyW93"
      },
      "source": [
        "##Sifat List"
      ]
    },
    {
      "cell_type": "code",
      "metadata": {
        "colab": {
          "base_uri": "https://localhost:8080/"
        },
        "id": "6C536LC6jeY2",
        "outputId": "c4c604df-1462-4054-e0bc-4aa8d9c1b7d3"
      },
      "source": [
        "#Terurut /Ordered\n",
        "print(\"Memanggil list L1 dengan indeks urutan:\", L1[0:3])"
      ],
      "execution_count": 33,
      "outputs": [
        {
          "output_type": "stream",
          "name": "stdout",
          "text": [
            "Memanggil list L1 dengan indeks urutan: [1, 4, 2]\n"
          ]
        }
      ]
    },
    {
      "cell_type": "code",
      "metadata": {
        "colab": {
          "base_uri": "https://localhost:8080/"
        },
        "id": "Vq-hj4azzHce",
        "outputId": "97aa7fe0-4c0c-42eb-d114-945d223e5e5e"
      },
      "source": [
        "#Bisa diganti/Mutable\n",
        "L1[1] = 2\n",
        "print(\"List L1 setelah diganti elemennya:\", L1)"
      ],
      "execution_count": 34,
      "outputs": [
        {
          "output_type": "stream",
          "name": "stdout",
          "text": [
            "List L1 setelah diganti elemennya: [1, 2, 2, 13]\n"
          ]
        }
      ]
    },
    {
      "cell_type": "code",
      "metadata": {
        "colab": {
          "base_uri": "https://localhost:8080/"
        },
        "id": "-EcAHl9SzISq",
        "outputId": "33cb1a26-35bd-46cb-e00d-e090b5829c08"
      },
      "source": [
        "L1 = [1, \"dua\", True, 2+3j]\n",
        "\n",
        "#Dapat Diindeks/Slicing\n",
        "print(\"Slicing List L1:\", L1[3])"
      ],
      "execution_count": 35,
      "outputs": [
        {
          "output_type": "stream",
          "name": "stdout",
          "text": [
            "Slicing List L1: (2+3j)\n"
          ]
        }
      ]
    },
    {
      "cell_type": "code",
      "metadata": {
        "colab": {
          "base_uri": "https://localhost:8080/"
        },
        "id": "K6mSFq7qzIAE",
        "outputId": "809088e2-524e-4eaf-dee6-30b085f49e60"
      },
      "source": [
        "#Dapat Diijinkan Duplikasi\n",
        "L1 = [1, \"dua\", True, 2+3j, 2+3j]\n",
        "print(\"Duplikasi pada List L1:\", L1)"
      ],
      "execution_count": 36,
      "outputs": [
        {
          "output_type": "stream",
          "name": "stdout",
          "text": [
            "Duplikasi pada List L1: [1, 'dua', True, (2+3j), (2+3j)]\n"
          ]
        }
      ]
    },
    {
      "cell_type": "markdown",
      "metadata": {
        "id": "5bhqurQpvMiH"
      },
      "source": [
        "**Latihan 2**"
      ]
    },
    {
      "cell_type": "code",
      "metadata": {
        "colab": {
          "base_uri": "https://localhost:8080/"
        },
        "id": "Mc_xJoOxlIyh",
        "outputId": "466816bc-f204-4263-c52b-a30768ab3a7e"
      },
      "source": [
        "#Ganti elemen yang ada pada List yang kalian buat\n",
        "\n",
        "print(\"Memanggil List1 dengan indeks urutan:\", List1[0:3])"
      ],
      "execution_count": 42,
      "outputs": [
        {
          "output_type": "stream",
          "name": "stdout",
          "text": [
            "Memanggil List1 dengan indeks urutan: [0.2, 25, 'tiga']\n"
          ]
        }
      ]
    },
    {
      "cell_type": "code",
      "metadata": {
        "colab": {
          "base_uri": "https://localhost:8080/"
        },
        "id": "QhB38geC0ZwP",
        "outputId": "c8ec42cd-ce67-4eb3-c1d5-b6c7dfd90435"
      },
      "source": [
        "List1[2] = False\n",
        "print(\"List L1 setelah diganti elemennya:\", List1)"
      ],
      "execution_count": 44,
      "outputs": [
        {
          "output_type": "stream",
          "name": "stdout",
          "text": [
            "List L1 setelah diganti elemennya: [0.2, 25, False, 0.35]\n"
          ]
        }
      ]
    },
    {
      "cell_type": "code",
      "metadata": {
        "colab": {
          "base_uri": "https://localhost:8080/"
        },
        "id": "iW7qJv8Q0Ayp",
        "outputId": "aa3ef50c-75c7-4c56-de0e-be6fb0ebf379"
      },
      "source": [
        "List1 = [1, \"yakin\", 2.0, \"bisa\", 7+2j]\n",
        "print(\"Slicing List L1:\", List1[4])"
      ],
      "execution_count": 47,
      "outputs": [
        {
          "output_type": "stream",
          "name": "stdout",
          "text": [
            "Slicing List L1: (7+2j)\n"
          ]
        }
      ]
    },
    {
      "cell_type": "code",
      "metadata": {
        "colab": {
          "base_uri": "https://localhost:8080/"
        },
        "id": "NC-6QskQ0uRo",
        "outputId": "102e0e39-0999-46ad-de6e-062610a07839"
      },
      "source": [
        "List1 = [1, \"yakin\", 2.0, \"bisa\", 7+2j, \"bisa\"]\n",
        "print(\"Duplikasi pada List L1:\", List1)"
      ],
      "execution_count": 48,
      "outputs": [
        {
          "output_type": "stream",
          "name": "stdout",
          "text": [
            "Duplikasi pada List L1: [1, 'yakin', 2.0, 'bisa', (7+2j), 'bisa']\n"
          ]
        }
      ]
    },
    {
      "cell_type": "code",
      "metadata": {
        "id": "kGQA4-ha1YF5"
      },
      "source": [
        ""
      ],
      "execution_count": null,
      "outputs": []
    }
  ]
}