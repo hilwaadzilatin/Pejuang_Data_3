{
  "nbformat": 4,
  "nbformat_minor": 0,
  "metadata": {
    "colab": {
      "name": "M1P2V1_Operator.ipynb",
      "provenance": [],
      "collapsed_sections": []
    },
    "kernelspec": {
      "name": "python3",
      "display_name": "Python 3"
    },
    "language_info": {
      "name": "python"
    }
  },
  "cells": [
    {
      "cell_type": "markdown",
      "metadata": {
        "id": "DpkivpYP7CSE"
      },
      "source": [
        "# **Operator**"
      ]
    },
    {
      "cell_type": "markdown",
      "metadata": {
        "id": "aSAHE5fF8Pdu"
      },
      "source": [
        "Operator = Simbol-simbol yang dapat digunakan untuk mengubah nilai dari satu variabel dengan melibatkan satu atau lebih variabel dan literal.\n",
        "\n",
        "Tipe-tipe Operator\n",
        "1. Operator Aritmatika\n",
        "2. Operator Assignment\n",
        "3. Operator Pembanding\n",
        "4. Operator Logika\n",
        "5. Operator Membership"
      ]
    },
    {
      "cell_type": "markdown",
      "metadata": {
        "id": "74-s6qHj8Lhu"
      },
      "source": [
        "##Operator Aritmatika"
      ]
    },
    {
      "cell_type": "markdown",
      "metadata": {
        "id": "86O5HmtG8cFl"
      },
      "source": [
        "Operator Aritmatika digunakan untuk melakukan operasi matematika yang umum\n",
        "\n",
        "Macam-macam operator aritmatika:\n",
        "```\n",
        "+  : Penjumlahan\n",
        "-  : Pengurangan\n",
        "*  : Perkalian\n",
        "/  : Pembagian\n",
        "%  : Modulus\n",
        "** : Perpangkatan\n",
        "// : Pembagian dengan hasil pembuatan flooring\n",
        "```"
      ]
    },
    {
      "cell_type": "code",
      "metadata": {
        "colab": {
          "base_uri": "https://localhost:8080/"
        },
        "id": "E_OLaidN8IVQ",
        "outputId": "25e93449-c531-4e70-8840-e6238b5a21b1"
      },
      "source": [
        "# Contoh penggunaan operator aritmatika\n",
        "\n",
        "#Penjumlahan\n",
        "print('Penjumlahan')\n",
        "print(2+2)\n",
        "#Pengurangan\n",
        "print('-'*20)\n",
        "print('Pengurangan')\n",
        "print(2-3)\n",
        "#Perkalian\n",
        "print('-'*20)\n",
        "print('Perkalian')\n",
        "print(2*3)\n",
        "#Pembagian\n",
        "print('-'*20)\n",
        "print('Pembagian')\n",
        "print(2/3)\n",
        "#Modulus\n",
        "print('-'*20)\n",
        "print('Modulus')\n",
        "print(2%3)\n",
        "#Perpangkatan\n",
        "print('-'*20)\n",
        "print('Perpangkatan')\n",
        "print(2**3)\n",
        "#Pembagian Pembulatan Floring\n",
        "print('-'*20)\n",
        "print('Pembagian Pembulatan Floring')\n",
        "print(3//2)"
      ],
      "execution_count": 2,
      "outputs": [
        {
          "output_type": "stream",
          "name": "stdout",
          "text": [
            "Penjumlahan\n",
            "4\n",
            "--------------------\n",
            "Pengurangan\n",
            "-1\n",
            "--------------------\n",
            "Perkalian\n",
            "6\n",
            "--------------------\n",
            "Pembagian\n",
            "0.6666666666666666\n",
            "--------------------\n",
            "Modulus\n",
            "2\n",
            "--------------------\n",
            "Perpangkatan\n",
            "8\n",
            "--------------------\n",
            "Pembagian Pembulatan Floring\n",
            "1\n"
          ]
        }
      ]
    },
    {
      "cell_type": "markdown",
      "metadata": {
        "id": "XkDamuUd-v0d"
      },
      "source": [
        "**Latihan Operator 1**"
      ]
    },
    {
      "cell_type": "code",
      "metadata": {
        "colab": {
          "base_uri": "https://localhost:8080/"
        },
        "id": "Z6pHZXyE-lVn",
        "outputId": "7f0906ba-e190-4326-899b-7184e1201f4e"
      },
      "source": [
        "# Buatlah program penerapan operator aritmatika dengan nilai-nilai yang berbeda dari contoh diatas\n",
        "\n",
        "#Penjumlahan\n",
        "print('Penjumlahan')\n",
        "print(5+4)\n",
        "\n",
        "#Pengurangan\n",
        "print('_'*20)\n",
        "print('Pengurangan')\n",
        "print(15-6)\n",
        "\n",
        "#Perkalian\n",
        "print('_'*20)\n",
        "print('Perkalian')\n",
        "print(4*10)\n",
        "\n",
        "#Pembagian\n",
        "print('_'*20)\n",
        "print('Pembagian')\n",
        "print(100/5)\n",
        "\n",
        "#Modulus\n",
        "print('_'*20)\n",
        "print('Modulus')\n",
        "print(49%10)\n",
        "\n",
        "#Perpangkatan\n",
        "print('_'*20)\n",
        "print('Perpangkatan')\n",
        "print(5**3)\n",
        "\n",
        "#Pembagian Pembulatan Floring\n",
        "print('_'*20)\n",
        "print('Pembagian Pembulatan Floring')\n",
        "print(17//4)"
      ],
      "execution_count": 8,
      "outputs": [
        {
          "output_type": "stream",
          "name": "stdout",
          "text": [
            "Penjumlahan\n",
            "9\n",
            "____________________\n",
            "Pengurangan\n",
            "9\n",
            "____________________\n",
            "Perkalian\n",
            "40\n",
            "____________________\n",
            "Pembagian\n",
            "20.0\n",
            "____________________\n",
            "Modulus\n",
            "9\n",
            "____________________\n",
            "Perpangkatan\n",
            "125\n",
            "____________________\n",
            "Pembagian Pembulatan Floring\n",
            "4\n"
          ]
        }
      ]
    },
    {
      "cell_type": "markdown",
      "metadata": {
        "id": "UgH5MIRL_E9S"
      },
      "source": [
        "##Operator Assignment"
      ]
    },
    {
      "cell_type": "markdown",
      "metadata": {
        "id": "u4LAOz8m_YKQ"
      },
      "source": [
        "Operator `assignment` digunakan untuk menyimpan nilai menjadi suatu variabel\n",
        "```\n",
        "=   : contohnya x = 5      -> x = 5\n",
        "+=  : contohnya x = x + 5  -> x += 5\n",
        "-=  : contohnya x = x - 5  -> x -= 5\n",
        "*=  : contohnya x = x * 5  -> x *= 5\n",
        "/=  : contohnya x = x / 5  -> x /= 5\n",
        "%=  : contohnya x = x % 5  -> x %= 5\n",
        "//= : contohnya x = x // 5 -> x //= 5\n",
        "**= : contohnya x = x ** 5 -> x **= 5\n",
        "```"
      ]
    },
    {
      "cell_type": "code",
      "metadata": {
        "colab": {
          "base_uri": "https://localhost:8080/"
        },
        "id": "8ayBMLrV_LCh",
        "outputId": "9050f399-5398-4ad9-b32d-19b3520998e3"
      },
      "source": [
        "# Contoh penggunaan operator Assignment\n",
        "\n",
        "#Penjumlahan\n",
        "print('Penjumlahan')\n",
        "x=5\n",
        "x=x+5\n",
        "print(x)\n",
        "x=5\n",
        "x+=3\n",
        "print(x)\n",
        "print('-'*20)\n",
        "\n",
        "#Pengurangan\n",
        "print('Pengurangan')\n",
        "x=5\n",
        "x=x-5\n",
        "print(x)\n",
        "x=5\n",
        "x-=3\n",
        "print(x)\n",
        "print('-'*20)\n",
        "\n",
        "#Perkalian\n",
        "print('Perkalian')\n",
        "x=5\n",
        "x=x*5\n",
        "print(x)\n",
        "x=5\n",
        "x*=3\n",
        "print(x)\n",
        "print('-'*20)\n",
        "\n",
        "#Pembagian\n",
        "print('Pembagian')\n",
        "x=5\n",
        "x=x/5\n",
        "print(x)\n",
        "x=5\n",
        "x/=3\n",
        "print(x)\n",
        "print('-'*20)\n",
        "\n",
        "#Modulus\n",
        "print('Modulus')\n",
        "x=5\n",
        "x=x%5\n",
        "print(x)\n",
        "x=5\n",
        "x%=3\n",
        "print(x)\n",
        "print('-'*20)\n",
        "\n",
        "#Pembagian Floring\n",
        "print('Pembagian Floring')\n",
        "x=5\n",
        "x=x//5\n",
        "print(x)\n",
        "x=5\n",
        "x//=3\n",
        "print(x)\n",
        "print('-'*20)\n",
        "\n",
        "#Perpangkatan\n",
        "print('Perpangkatan')\n",
        "x=5\n",
        "x=x**5\n",
        "print(x)\n",
        "x=5\n",
        "x**=3\n",
        "print(x)\n",
        "print('-'*20)"
      ],
      "execution_count": 3,
      "outputs": [
        {
          "output_type": "stream",
          "name": "stdout",
          "text": [
            "Penjumlahan\n",
            "10\n",
            "8\n",
            "--------------------\n",
            "Pengurangan\n",
            "0\n",
            "2\n",
            "--------------------\n",
            "Perkalian\n",
            "25\n",
            "15\n",
            "--------------------\n",
            "Pembagian\n",
            "1.0\n",
            "1.6666666666666667\n",
            "--------------------\n",
            "Modulus\n",
            "0\n",
            "2\n",
            "--------------------\n",
            "Pembagian Floring\n",
            "1\n",
            "1\n",
            "--------------------\n",
            "Perpangkatan\n",
            "3125\n",
            "125\n",
            "--------------------\n"
          ]
        }
      ]
    },
    {
      "cell_type": "markdown",
      "metadata": {
        "id": "4JjmjJf3CIPb"
      },
      "source": [
        "**Latihan Operator 2**"
      ]
    },
    {
      "cell_type": "code",
      "metadata": {
        "colab": {
          "base_uri": "https://localhost:8080/"
        },
        "id": "uHt6s_chBjFv",
        "outputId": "7c81a44c-ad9b-41f5-c5ec-f7b2d111d05a"
      },
      "source": [
        "# Buatlah program penerapan operator assignment dengan nilai-nilai yang berbeda dari contoh diatas\n",
        "\n",
        "#Penjumlahan\n",
        "print('Penjumlahan')\n",
        "x=8\n",
        "x=x+3\n",
        "print(x)\n",
        "x=10\n",
        "x+=4\n",
        "print(x)\n",
        "print('_'*20)\n",
        "\n",
        "#Pengurangan\n",
        "print('Pengurangan')\n",
        "x=9\n",
        "x=x-5\n",
        "print(x)\n",
        "x=15\n",
        "x-=2\n",
        "print(x)\n",
        "print('_'*20)\n",
        "\n",
        "#Perkalian\n",
        "print('Perkalian')\n",
        "x=6\n",
        "x=x*6\n",
        "print(x)\n",
        "x=8\n",
        "x*=3\n",
        "print(x)\n",
        "print('_'*20)\n",
        "\n",
        "#Pembagian\n",
        "print('Pembagian')\n",
        "x=11\n",
        "x=x/11\n",
        "print(x)\n",
        "x=15\n",
        "x/=3\n",
        "print(x)\n",
        "print('_'*20)\n",
        "\n",
        "#Modulus\n",
        "print('Modulus')\n",
        "x=42\n",
        "x=x%12\n",
        "print(x)\n",
        "x=27\n",
        "x%=10\n",
        "print(x)\n",
        "print('_'*20)\n",
        "\n",
        "#Pembagian Floring\n",
        "print('Pembagian Floring')\n",
        "x=28\n",
        "x=x//9\n",
        "print(x)\n",
        "x=20\n",
        "x//=3\n",
        "print(x)\n",
        "print('_'*20)\n",
        "\n",
        "#Perpangkatan\n",
        "print('Perpangkatan')\n",
        "x=2\n",
        "x=x**3\n",
        "print(x)\n",
        "x=10\n",
        "x**=3\n",
        "print(x)\n",
        "print('_'*20)"
      ],
      "execution_count": 10,
      "outputs": [
        {
          "output_type": "stream",
          "name": "stdout",
          "text": [
            "Penjumlahan\n",
            "11\n",
            "14\n",
            "____________________\n",
            "Pengurangan\n",
            "4\n",
            "13\n",
            "____________________\n",
            "Perkalian\n",
            "36\n",
            "24\n",
            "____________________\n",
            "Pembagian\n",
            "1.0\n",
            "5.0\n",
            "____________________\n",
            "Modulus\n",
            "6\n",
            "7\n",
            "____________________\n",
            "Pembagian Floring\n",
            "3\n",
            "6\n",
            "____________________\n",
            "Perpangkatan\n",
            "8\n",
            "1000\n",
            "____________________\n"
          ]
        }
      ]
    },
    {
      "cell_type": "markdown",
      "metadata": {
        "id": "piXl22_JCcg_"
      },
      "source": [
        "##Operator Pembanding"
      ]
    },
    {
      "cell_type": "markdown",
      "metadata": {
        "id": "8XrIMNDFChzv"
      },
      "source": [
        "Operator pembanding digunakan untuk membandingkan 2 nilai atau variabel\n",
        "\n",
        "Macam-macam operator pembanding:\n",
        "```\n",
        "== -> samadengan\n",
        "!= -> tidak samadengan\n",
        ">  -> lebih dari\n",
        "<  -> kurang dari\n",
        ">= -> lebih dari dan samadengan\n",
        "<= -> kurang dari dan samadengan\n",
        "```"
      ]
    },
    {
      "cell_type": "code",
      "metadata": {
        "colab": {
          "base_uri": "https://localhost:8080/"
        },
        "id": "idA_Rs-RChFX",
        "outputId": "508a6f52-312a-4051-d3ee-523b5ac7e19a"
      },
      "source": [
        "# Contoh penggunaan operator pembanding\n",
        "print(2==2)\n",
        "print(2!=2)\n",
        "print(2>2)\n",
        "print(2<2)\n",
        "print(2>=2)\n",
        "print(2<=2)"
      ],
      "execution_count": 4,
      "outputs": [
        {
          "output_type": "stream",
          "name": "stdout",
          "text": [
            "True\n",
            "False\n",
            "False\n",
            "False\n",
            "True\n",
            "True\n"
          ]
        }
      ]
    },
    {
      "cell_type": "markdown",
      "metadata": {
        "id": "HvU7vOYjDaO1"
      },
      "source": [
        "**Latihan Operator 3**"
      ]
    },
    {
      "cell_type": "code",
      "metadata": {
        "colab": {
          "base_uri": "https://localhost:8080/"
        },
        "id": "FRmoCPo7DXv4",
        "outputId": "b040ffc6-452d-4a5f-c85e-8166f6da4070"
      },
      "source": [
        "# Buatlah program penerapan operator pembanding dengan nilai-nilai yang berbeda dari contoh di atas\n",
        "print('9==10 adalah', 9==10)\n",
        "print('1!=4 adalah', 1!=4)\n",
        "print('8>17 adalah', 8>17)\n",
        "print('7<9 adalah', 7<9)\n",
        "print('1>=4 adalah', 1>=4)\n",
        "print('4<=4 adalah', 4<=4)"
      ],
      "execution_count": 11,
      "outputs": [
        {
          "output_type": "stream",
          "name": "stdout",
          "text": [
            "9==10 adalah False\n",
            "1!=4 adalah True\n",
            "8>17 adalah False\n",
            "7<9 adalah True\n",
            "1>=4 adalah False\n",
            "4<=4 adalah True\n"
          ]
        }
      ]
    },
    {
      "cell_type": "markdown",
      "metadata": {
        "id": "h3EbLOcpDu91"
      },
      "source": [
        "##Operator Logika"
      ]
    },
    {
      "cell_type": "markdown",
      "metadata": {
        "id": "uQr71qsUDyeV"
      },
      "source": [
        "Operator logika digunakan untuk mengkombinasikan statement-statement kondisional\n",
        "\n",
        "Macam-macam operator logika:\n",
        "```\n",
        "and -> kondisi menjadi benar apabila semua statementnya benar\n",
        "or  -> kondisi menjadi benar apabila salah satu statementnya ada yang benar\n",
        "not -> membalik hasil dari benar ke salah dan salah ke benar\n",
        "```"
      ]
    },
    {
      "cell_type": "code",
      "metadata": {
        "colab": {
          "base_uri": "https://localhost:8080/"
        },
        "id": "hJFGtnBNDxTq",
        "outputId": "a82d3e31-4c54-47e7-aa0e-e82c664240c3"
      },
      "source": [
        "# Contoh penggunaan operator logika\n",
        "\n",
        "print(True and False)\n",
        "print(False and False)\n",
        "print(not False and True)"
      ],
      "execution_count": 5,
      "outputs": [
        {
          "output_type": "stream",
          "name": "stdout",
          "text": [
            "False\n",
            "False\n",
            "True\n"
          ]
        }
      ]
    },
    {
      "cell_type": "markdown",
      "metadata": {
        "id": "S_IbQX08ElI7"
      },
      "source": [
        "**Latihan Operator 4**"
      ]
    },
    {
      "cell_type": "code",
      "metadata": {
        "colab": {
          "base_uri": "https://localhost:8080/"
        },
        "id": "QyZCuxdmEZLE",
        "outputId": "116e5dd6-e7ee-4196-e0a6-e548dc5b61f5"
      },
      "source": [
        "# Buatlah program penerapan operator logika dengan nilai-nilai yang berbeda dari contoh di atas\n",
        "\n",
        "print(True and True)\n",
        "print(False or False)\n",
        "print(False and not True)"
      ],
      "execution_count": 12,
      "outputs": [
        {
          "output_type": "stream",
          "name": "stdout",
          "text": [
            "True\n",
            "False\n",
            "False\n"
          ]
        }
      ]
    },
    {
      "cell_type": "markdown",
      "metadata": {
        "id": "IcvTlKwGE06y"
      },
      "source": [
        "##Operator Keanggotaan"
      ]
    },
    {
      "cell_type": "markdown",
      "metadata": {
        "id": "bCQRb56RFOmM"
      },
      "source": [
        "Operator keanggotaan digunakan untuk menguji apakah urutan disajikan dalam suatu objek\n",
        "\n",
        "Macam-macam operator keanggotaan:\n",
        "```\n",
        "in     -> return True ketika nilai tertentu dalam sebuah urutan ada\n",
        "not in -> return True ketika nilai tertentu dalam sebuah urutan tidak ada\n",
        "```"
      ]
    },
    {
      "cell_type": "code",
      "metadata": {
        "colab": {
          "base_uri": "https://localhost:8080/"
        },
        "id": "5x7lr7_pFIPM",
        "outputId": "0cb04b9c-737e-44d9-fa1d-b91a9576f401"
      },
      "source": [
        "# Contoh penggunaan operator keanggotaan\n",
        "a = (1,2,3,4,5,6)\n",
        "b = 2\n",
        "\n",
        "print(b in a)\n",
        "\n",
        "print('-'*20)\n",
        "a = (1,2,3,4,5,6)\n",
        "c = 7\n",
        "print(c not in a)"
      ],
      "execution_count": 14,
      "outputs": [
        {
          "output_type": "stream",
          "name": "stdout",
          "text": [
            "True\n",
            "--------------------\n",
            "True\n"
          ]
        }
      ]
    },
    {
      "cell_type": "markdown",
      "metadata": {
        "id": "4LDlMUk4F30y"
      },
      "source": [
        "**Latihan Operator 5**"
      ]
    },
    {
      "cell_type": "code",
      "metadata": {
        "colab": {
          "base_uri": "https://localhost:8080/"
        },
        "id": "l87gX9axFw7_",
        "outputId": "686e18bb-4f88-4439-ec05-b661bad6a694"
      },
      "source": [
        "# Buatlah program penerapan operator keanggotaan/membership dengan nilai-nilai yang berbeda dari contoh di atas\n",
        "a = (10,20,30,40,50)\n",
        "b = 40\n",
        "print(b not in a)\n",
        "\n",
        "print('_'*20)\n",
        "\n",
        "a = (10,20,30,40,50)\n",
        "c = 23\n",
        "print(c in a)"
      ],
      "execution_count": 16,
      "outputs": [
        {
          "output_type": "stream",
          "name": "stdout",
          "text": [
            "False\n",
            "____________________\n",
            "False\n"
          ]
        }
      ]
    },
    {
      "cell_type": "code",
      "metadata": {
        "id": "Xy3QfhfyPrjt"
      },
      "source": [
        ""
      ],
      "execution_count": null,
      "outputs": []
    }
  ]
}