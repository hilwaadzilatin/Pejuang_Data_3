{
 "cells": [
  {
   "cell_type": "markdown",
   "id": "ff1cab99",
   "metadata": {},
   "source": [
    "# Pengenalan Python"
   ]
  },
  {
   "cell_type": "markdown",
   "id": "63942564",
   "metadata": {},
   "source": [
    "Python adalah Bahasa Pemrograman tingkat tinggi dengan dynamic semantics, bersifat object oriented, dan interpretatif. Bahasa pemrograman ini fokus dikembangkan pada keterbacaan bahasa pemrograman."
   ]
  },
  {
   "cell_type": "markdown",
   "id": "8c4b720f",
   "metadata": {},
   "source": [
    "1. **Bahasa Pemrograman Tingkat Tinggi (High Level Programming)** Artinya sintaks kode lebih mudah ditafsirkan manusia.\n",
    "2. **Interpretatif** ini artinya bahasa ini memerlukan intrepeter atau penerjemah. Ini memungkinkan bagi kita untuk menggunakan Bahasa yang lebih mudah kita pahami.\n",
    "3. **Object Oriented** ini berarti bahwa bahasa pemrograman ini berorientasi kepada objek. Hal ini membuat Python lebih mudah untuk dikembangkan.\n",
    "4. **Dynamic Semantics** Python secara otomatis akan menyesuaikan tipe dari suatu variable berdasarkan inputnya."
   ]
  },
  {
   "cell_type": "markdown",
   "id": "aa65b0e5",
   "metadata": {},
   "source": [
    "# Mengapa Python?"
   ]
  },
  {
   "cell_type": "markdown",
   "id": "84df4f0c",
   "metadata": {},
   "source": [
    "1. Mudah Dipahami\n",
    "2. Gratis & Open Source\n",
    "3. Dinamis\n",
    "4. Memiliki Library Terlengkap untuk Data Sains"
   ]
  },
  {
   "cell_type": "markdown",
   "id": "0e5d8d46",
   "metadata": {},
   "source": [
    "# Struktur Program pada Python"
   ]
  },
  {
   "cell_type": "markdown",
   "id": "af60687a",
   "metadata": {},
   "source": [
    "Python pada umumnya terdiri dari:"
   ]
  },
  {
   "cell_type": "markdown",
   "id": "64994c63",
   "metadata": {},
   "source": [
    "1. **Statements**"
   ]
  },
  {
   "cell_type": "code",
   "execution_count": 1,
   "id": "349e287e",
   "metadata": {},
   "outputs": [
    {
     "name": "stdout",
     "output_type": "stream",
     "text": [
      "Belajar Python Menyenangkan\n",
      "Halo Dunia!!\n"
     ]
    }
   ],
   "source": [
    "print (\"Belajar Python Menyenangkan\")\n",
    "print (\"Halo Dunia!!\")"
   ]
  },
  {
   "cell_type": "markdown",
   "id": "a5ad4b93",
   "metadata": {},
   "source": [
    "2. **Variables**"
   ]
  },
  {
   "cell_type": "code",
   "execution_count": 2,
   "id": "63570e6c",
   "metadata": {},
   "outputs": [],
   "source": [
    "bilangan1 = 5\n",
    "bilangan2 = 10\n",
    "kalimat = \"Pejuang Data 3\""
   ]
  },
  {
   "cell_type": "markdown",
   "id": "81d96b6f",
   "metadata": {},
   "source": [
    "3. **Literals:** Simbol-simbol yang dapat kita gunakan untuk mengisi suatu variabel."
   ]
  },
  {
   "cell_type": "markdown",
   "id": "dd6b156b",
   "metadata": {},
   "source": [
    "4. **Operators:** Simbol-simbol yang dapat digunakan untuk mengubah nilai dari satu variabel dengan melibatkan satu atau lebih variabel dan literal."
   ]
  },
  {
   "cell_type": "code",
   "execution_count": 3,
   "id": "6e14737c",
   "metadata": {},
   "outputs": [
    {
     "data": {
      "text/plain": [
       "15"
      ]
     },
     "execution_count": 3,
     "metadata": {},
     "output_type": "execute_result"
    }
   ],
   "source": [
    "bilangan1 + bilangan2"
   ]
  },
  {
   "cell_type": "markdown",
   "id": "2a90055d",
   "metadata": {},
   "source": [
    "5. **Reserved Words:** Kumpulan kata-kata yang memiliki makna khusus dalam bahasa pemrograman Python. Kata *false*, *return*, dan *for* merupakan contoh dari reserved words.\n",
    "6. **Whitespace:** Pada bahasa python, spasi dan tab memiliki makna khusus untuk menandai serangkaian blok dalam kode Python.\n",
    "7. **Comments:** Comments merupakan sekumpulan teks yang dituliskan di dalam sebuah program yang tidak akan mempengaruhi hasil dari sebuah program."
   ]
  },
  {
   "cell_type": "markdown",
   "id": "27d25609",
   "metadata": {},
   "source": [
    "Terdapat dua jenis comments di dalam Python, yaitu:"
   ]
  },
  {
   "cell_type": "markdown",
   "id": "4c994189",
   "metadata": {},
   "source": [
    "**a. Single Line Comment** (comment dalam satu baris) seperti pada contoh berikut:"
   ]
  },
  {
   "cell_type": "code",
   "execution_count": 5,
   "id": "7112b5f5",
   "metadata": {},
   "outputs": [
    {
     "name": "stdout",
     "output_type": "stream",
     "text": [
      "Belajar Python\n"
     ]
    }
   ],
   "source": [
    "# Ini adalah comment\n",
    "print (\"Belajar Python\")"
   ]
  },
  {
   "cell_type": "markdown",
   "id": "199538bc",
   "metadata": {},
   "source": [
    "**b. Multi Line Comments** (comments dalam beberapa baris) yang dapat dituliskan seperti pada contoh berikut:"
   ]
  },
  {
   "cell_type": "code",
   "execution_count": 6,
   "id": "74e58e22",
   "metadata": {},
   "outputs": [
    {
     "name": "stdout",
     "output_type": "stream",
     "text": [
      "Belajar Python itu Menyenangkan:)\n"
     ]
    }
   ],
   "source": [
    "'''\n",
    "Ini adalah komentar panjang\n",
    "Bisa digunakan untuk memberikan penjelasan panjang pada Sell Kode Python,\n",
    "Misal dokumentasi program, spesifikasi input output lainnya\n",
    "'''\n",
    "\n",
    "print ('Belajar Python itu Menyenangkan:)')"
   ]
  },
  {
   "cell_type": "code",
   "execution_count": null,
   "id": "37efbc4e",
   "metadata": {},
   "outputs": [],
   "source": []
  }
 ],
 "metadata": {
  "kernelspec": {
   "display_name": "Python 3",
   "language": "python",
   "name": "python3"
  },
  "language_info": {
   "codemirror_mode": {
    "name": "ipython",
    "version": 3
   },
   "file_extension": ".py",
   "mimetype": "text/x-python",
   "name": "python",
   "nbconvert_exporter": "python",
   "pygments_lexer": "ipython3",
   "version": "3.8.8"
  }
 },
 "nbformat": 4,
 "nbformat_minor": 5
}
