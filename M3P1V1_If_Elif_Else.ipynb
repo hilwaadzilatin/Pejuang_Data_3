{
  "nbformat": 4,
  "nbformat_minor": 0,
  "metadata": {
    "colab": {
      "name": "M3P1V1_If_Elif_Else.ipynb",
      "provenance": []
    },
    "kernelspec": {
      "display_name": "Python 3",
      "name": "python3"
    },
    "language_info": {
      "name": "python"
    }
  },
  "cells": [
    {
      "cell_type": "markdown",
      "metadata": {
        "id": "6dg_LiMaI33i"
      },
      "source": [
        "#Percabangan/Struktur Pemilihan"
      ]
    },
    {
      "cell_type": "markdown",
      "metadata": {
        "id": "mros06aXViJj"
      },
      "source": [
        "Pada bagian ini, kamu akan membuat keputusan pada bahasa pemrograman Python menggunakan struktur percabangan atau juga sering disebut IF ELSE Statement. Pengambilan keputusan dibutuhkan ketika kamu akan mengeksekusi suatu kode jika sebuah kondisi tertentu dipenuhi.\n",
        "\n",
        "Statement `if... elif... else` digunakan pada bahasa Python untuk pengambilan keputusan."
      ]
    },
    {
      "cell_type": "markdown",
      "metadata": {
        "id": "FcSFL_QjVsHY"
      },
      "source": [
        "###**IF Statements**"
      ]
    },
    {
      "cell_type": "markdown",
      "metadata": {
        "id": "wKaCzED6VwAu"
      },
      "source": [
        "Python IF Statements Syntax"
      ]
    },
    {
      "cell_type": "code",
      "metadata": {
        "id": "mPZwzkm4VvTE"
      },
      "source": [
        "if test expression:\n",
        "  statement(s)"
      ],
      "execution_count": null,
      "outputs": []
    },
    {
      "cell_type": "markdown",
      "metadata": {
        "id": "70VJBkrwV6OY"
      },
      "source": [
        "Python IF Statement Flowchart"
      ]
    },
    {
      "cell_type": "markdown",
      "metadata": {
        "id": "SkIBlKQhHQ3Y"
      },
      "source": [
        "![Python_if_statement.jpg](data:image/jpeg;base64,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)"
      ]
    },
    {
      "cell_type": "markdown",
      "metadata": {
        "id": "mXbUV0UfV_KL"
      },
      "source": [
        "Example: Python IF Statement"
      ]
    },
    {
      "cell_type": "code",
      "metadata": {
        "colab": {
          "base_uri": "https://localhost:8080/"
        },
        "id": "_1NkMMpwWCu1",
        "outputId": "04fd449b-3c21-4330-d65f-b8d5d2f6a1a3"
      },
      "source": [
        "# Jika angka adalah bilangan positif maka print \"adalah bilangan positif\"\n",
        "\n",
        "angka = 3\n",
        "if angka > 0:\n",
        "  print(angka, \"adalah bilangan positif.\")\n",
        "print(\"Pernyataan ini selalu ditampilkan.\")\n",
        "\n",
        "angka = -1\n",
        "if angka > 0:\n",
        "  print(angka, \"adalah bilangan positif\")\n",
        "print(\"Pernyataan ini juga selalu ditampilkan.\")"
      ],
      "execution_count": 1,
      "outputs": [
        {
          "output_type": "stream",
          "name": "stdout",
          "text": [
            "3 adalah bilangan positif.\n",
            "Pernyataan ini selalu ditampilkan.\n",
            "Pernyataan ini juga selalu ditampilkan.\n"
          ]
        }
      ]
    },
    {
      "cell_type": "markdown",
      "metadata": {
        "id": "0xj2FPcVWlBo"
      },
      "source": [
        "###**IF ELSE Statements**"
      ]
    },
    {
      "cell_type": "markdown",
      "metadata": {
        "id": "9lFtCGFkWp9K"
      },
      "source": [
        "Python IF ELSE Statements Syntax"
      ]
    },
    {
      "cell_type": "code",
      "metadata": {
        "id": "AOFpwAcBWpM_"
      },
      "source": [
        "if test expression:\n",
        "  Body of if\n",
        "else :\n",
        "  Body of else"
      ],
      "execution_count": null,
      "outputs": []
    },
    {
      "cell_type": "markdown",
      "metadata": {
        "id": "9m7VmJbUW6eU"
      },
      "source": [
        "Python IF ELSE Statement Flowchart"
      ]
    },
    {
      "cell_type": "markdown",
      "metadata": {
        "id": "oSICHruKIv7J"
      },
      "source": [
        "![if else.jpg](data:image/jpeg;base64,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)"
      ]
    },
    {
      "cell_type": "markdown",
      "metadata": {
        "id": "otKHeLiSXDCT"
      },
      "source": [
        "Example: Python IF ELSE Statement"
      ]
    },
    {
      "cell_type": "code",
      "metadata": {
        "colab": {
          "base_uri": "https://localhost:8080/"
        },
        "id": "WfvxwNH-XCY2",
        "outputId": "68a60ed2-08e0-4328-ed0c-7b60bde64688"
      },
      "source": [
        "# Program disusun untuk mengecek apakah angka tersebut kurang dari 0 atau tidak dan menampilkan tulisan yang sesuai\n",
        "\n",
        "angka = 3\n",
        "\n",
        "if angka >= 0:\n",
        "  print(\"Bilangan lebih dari atau samadengan 0\")\n",
        "else:\n",
        "  print(\"Bilangan kurang dari 0\")"
      ],
      "execution_count": 2,
      "outputs": [
        {
          "output_type": "stream",
          "name": "stdout",
          "text": [
            "Bilangan lebih dari atau samadengan 0\n"
          ]
        }
      ]
    },
    {
      "cell_type": "code",
      "metadata": {
        "colab": {
          "base_uri": "https://localhost:8080/"
        },
        "id": "aHS1eX4zXnN4",
        "outputId": "c26a8dcc-cd98-4649-a90c-2a18d672cfec"
      },
      "source": [
        "# Program disusun untuk mengecek apakah dua buah angka sama atau tidak dan menampilkan tulisan yang sesuai\n",
        "\n",
        "a = 5\n",
        "b = 5\n",
        "\n",
        "if a==b:\n",
        "  print(\"a dan b bernilai sama\")\n",
        "else:\n",
        "  print(\"a dan b bernilai berbeda\")\n",
        "  print(\"Belajar If Else\")"
      ],
      "execution_count": 3,
      "outputs": [
        {
          "output_type": "stream",
          "name": "stdout",
          "text": [
            "a dan b bernilai sama\n"
          ]
        }
      ]
    },
    {
      "cell_type": "code",
      "metadata": {
        "colab": {
          "base_uri": "https://localhost:8080/"
        },
        "id": "5y-BYlMzYFSE",
        "outputId": "b21e132d-c5d2-43eb-f5cc-d7e9a6b03a02"
      },
      "source": [
        "# Program disusun untuk mengecek apakah perbandingan dua buah angka dan menampilkan tulisan yang sesuai\n",
        "\n",
        "# membaca dua angka\n",
        "bil1 = int(input(\"Masukkan bilangan pertama: \"))\n",
        "bil2 = int(input(\"Masukkan bilangan kedua: \"))\n",
        "\n",
        "# memilih bilangan yang lebih besar\n",
        "if bil1 > bil2:\n",
        "  bil_lebih_besar = bil1\n",
        "else:\n",
        "  bil_lebih_besar = bil2\n",
        "\n",
        "# menampilkan hasil\n",
        "print(\"Bilangan yang lebih besar adalah:\", bil_lebih_besar)"
      ],
      "execution_count": 4,
      "outputs": [
        {
          "output_type": "stream",
          "name": "stdout",
          "text": [
            "Masukkan bilangan pertama: 8\n",
            "Masukkan bilangan kedua: 17\n",
            "Bilangan yang lebih besar adalah: 17\n"
          ]
        }
      ]
    },
    {
      "cell_type": "markdown",
      "metadata": {
        "id": "5JEzHuvNY6Jo"
      },
      "source": [
        "###**IF ELIF ELSE Statements**"
      ]
    },
    {
      "cell_type": "markdown",
      "metadata": {
        "id": "acn65ZyAZUcM"
      },
      "source": [
        "Python IF ELIF ELSE Statements Syntax"
      ]
    },
    {
      "cell_type": "code",
      "metadata": {
        "id": "Vv3Nuim0Y8xg"
      },
      "source": [
        "if test expression:\n",
        "  Body of if\n",
        "elif test expression:\n",
        "  Body of elif\n",
        "else:\n",
        "  Body of else"
      ],
      "execution_count": null,
      "outputs": []
    },
    {
      "cell_type": "markdown",
      "metadata": {
        "id": "pBiqnIXYZnFe"
      },
      "source": [
        "Python IF ELIF ELSE Statements Flow Chart"
      ]
    },
    {
      "cell_type": "markdown",
      "metadata": {
        "id": "nP-mKp50NSE_"
      },
      "source": [
        "![if-elif-else.jpg](data:image/jpeg;base64,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)"
      ]
    },
    {
      "cell_type": "markdown",
      "metadata": {
        "id": "U57vmpEZZvXR"
      },
      "source": [
        "Example: Python IF ELIF ELSE Statement"
      ]
    },
    {
      "cell_type": "code",
      "metadata": {
        "colab": {
          "base_uri": "https://localhost:8080/"
        },
        "id": "KzigcynFZyrC",
        "outputId": "00bde94a-3bc1-437b-aa46-0329361b6898"
      },
      "source": [
        "# Program disusun untuk mengecek apakah angka merupakan bilangan positif, negatif, atau nol dan menampilkan tulisan yang sesuai\n",
        "\n",
        "angka = 3.4\n",
        "\n",
        "if angka > 0:\n",
        "  print(\"Bilangan Positif\")\n",
        "elif num == 0:\n",
        "  print(\"Nol\")\n",
        "else:\n",
        "  print(\"Bilangan Negatif\")"
      ],
      "execution_count": 7,
      "outputs": [
        {
          "output_type": "stream",
          "name": "stdout",
          "text": [
            "Bilangan Positif\n"
          ]
        }
      ]
    },
    {
      "cell_type": "code",
      "metadata": {
        "colab": {
          "base_uri": "https://localhost:8080/"
        },
        "id": "I8CcmsrlaL1p",
        "outputId": "f9e7cef0-1f0e-4139-ab24-53e26098d68e"
      },
      "source": [
        "# Statement if\n",
        "x = 4\n",
        "if x % 2 == 0: #jika x dibagi 2 sisanya samadengan 0\n",
        "   print(\"x habis dibagi dua\")\n",
        "\n",
        "# Statement if...elif...else\n",
        "x = 7\n",
        "if x % 2 == 0: #jika x dibagi 2 sisanya samadengan 0\n",
        "  print(\"x habis dibagi dua\")\n",
        "elif x % 3 == 0: #jika x dibagi 3 sisanya samadengan 0\n",
        "  print(\"x habis dibagi tiga\")\n",
        "elif x % 5 == 0: #jika x dibagi 5 sisanya samadengan 0\n",
        "  print(\"x habis dibagi lima\")\n",
        "else:\n",
        "  print(\"x tidak habis dibagi dua, tiga, ataupun lima\")"
      ],
      "execution_count": 9,
      "outputs": [
        {
          "output_type": "stream",
          "name": "stdout",
          "text": [
            "x habis dibagi dua\n",
            "x tidak habis dibagi dua, tiga, ataupun lima\n"
          ]
        }
      ]
    },
    {
      "cell_type": "markdown",
      "metadata": {
        "id": "wqy3OshtbaNc"
      },
      "source": [
        "###**Python Nested IF Statements**\n",
        "\n"
      ]
    },
    {
      "cell_type": "markdown",
      "metadata": {
        "id": "08h2PFpobgxX"
      },
      "source": [
        "Example: Python NESTED IF Statement"
      ]
    },
    {
      "cell_type": "code",
      "metadata": {
        "colab": {
          "base_uri": "https://localhost:8080/"
        },
        "id": "D-JfskHcbdHY",
        "outputId": "44aba4d5-b2d3-494d-c520-7f5aac753c2f"
      },
      "source": [
        "# Program disusun untuk mengecek apakah angka merupakan bilangan positif, negatif, atau nol dan menampilkan tulisan yang sesuai\n",
        "\n",
        "angka = float(input(\"Masukkan angka:\"))\n",
        "if angka >= 0:\n",
        "  if angka == 0:\n",
        "    print(\"Nol\")\n",
        "  else:\n",
        "    print(\"Bilangan Positif\")\n",
        "else:\n",
        "  print(\"Bilangan Negatif\")"
      ],
      "execution_count": 10,
      "outputs": [
        {
          "output_type": "stream",
          "name": "stdout",
          "text": [
            "Masukkan angka:2\n",
            "Bilangan Positif\n"
          ]
        }
      ]
    },
    {
      "cell_type": "markdown",
      "metadata": {
        "id": "SmwcONI2cSYM"
      },
      "source": [
        "###Latihan"
      ]
    },
    {
      "cell_type": "markdown",
      "metadata": {
        "id": "SLbOIzpXcUlq"
      },
      "source": [
        "Buatlah sebuah fungsi \"Mahal_Diskon\" dengan ketentuan:\n",
        "\n",
        "*   Input berupa data harga produk dengan tipe data numerik Tunggal\n",
        "*   Kategori input adalah \"Murah\" dan \"Mahal\", kemudian diskon ada 3 kategori \"10%\", \"20%\", dan \"40%\"\n",
        "*   Output Pertama sebuah teks/string yang menyatakan \"Mahal\" atau \"Murah\" dan keterangan \"Kamu dapat diskon..\"\n",
        "*   Output kedua adalah harga yang perlu dibayarkan"
      ]
    },
    {
      "cell_type": "code",
      "metadata": {
        "colab": {
          "base_uri": "https://localhost:8080/"
        },
        "id": "C7TqBJAQcUEJ",
        "outputId": "0fad6f99-78f8-4e8e-e9fd-6fa983e74cd9"
      },
      "source": [
        "# Input Data Produk\n",
        "harga = int(input(\"Harga sepatu: \"))\n",
        "jumlah = int(input(\"Jumlah sepatu yang dibeli: \"))\n",
        "total = harga*jumlah\n",
        "print(\"Total: \", total)\n",
        "\n",
        "# Kategori Produk dan penentuan diskon\n",
        "if total >= 450000:\n",
        "  print('Total harga sepatu mahal')\n",
        "  print('Selamat Anda mendapatkan diskon karena memenuhi syarat')\n",
        "else:\n",
        "  print('Total harga sepatu murah')\n",
        "  print('Diskon tidak berlaku karena syarat tidak terpenuhi')\n",
        "\n",
        "# Pemberian diskon\n",
        "if total >= 850000:\n",
        "  total = total-(0.4*total)\n",
        "elif total >= 700000:\n",
        "  total = total-(0.2*total)\n",
        "elif total >= 450000:\n",
        "  total = total-(0.1*total)\n",
        "else:\n",
        "  total\n",
        "\n",
        "print(\"Total yang harus dibayar jika mendapat diskon: \", total)"
      ],
      "execution_count": 2,
      "outputs": [
        {
          "output_type": "stream",
          "name": "stdout",
          "text": [
            "Harga sepatu: 260000\n",
            "Jumlah sepatu yang dibeli: 2\n",
            "Total:  520000\n",
            "Total harga sepatu mahal\n",
            "Selamat Anda mendapatkan diskon karena memenuhi syarat\n",
            "Total yang harus dibayar jika mendapat diskon:  468000.0\n"
          ]
        }
      ]
    },
    {
      "cell_type": "code",
      "metadata": {
        "id": "x7lR1-TekJVr"
      },
      "source": [
        ""
      ],
      "execution_count": null,
      "outputs": []
    }
  ]
}