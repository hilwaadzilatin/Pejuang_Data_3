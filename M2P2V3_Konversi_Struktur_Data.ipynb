{
  "nbformat": 4,
  "nbformat_minor": 0,
  "metadata": {
    "colab": {
      "name": "M2P2V3_Konversi Struktur Data.ipynb",
      "provenance": []
    },
    "kernelspec": {
      "name": "python3",
      "display_name": "Python 3"
    },
    "language_info": {
      "name": "python"
    }
  },
  "cells": [
    {
      "cell_type": "markdown",
      "metadata": {
        "id": "mUSn1JjKnVCf"
      },
      "source": [
        "#Konversi Struktur Data"
      ]
    },
    {
      "cell_type": "markdown",
      "metadata": {
        "id": "O7ABf5mVn25B"
      },
      "source": [
        "Fungsi untuk mengubah/konversi struktur data:\n",
        "\n",
        "a. ```list()``` : untuk mengubah menjadi list\n",
        "\n",
        "b. ```tuple()``` : untuk mengubah menjadi tuple\n",
        "\n",
        "c. ```set()``` : untuk mengubah menjadi set\n",
        "\n",
        "d. ```dict()``` : untuk mengubah menjadi dictionary"
      ]
    },
    {
      "cell_type": "markdown",
      "metadata": {
        "id": "d6QZeFrfoeg6"
      },
      "source": [
        "###Mengkonversi Tipe Data List:"
      ]
    },
    {
      "cell_type": "code",
      "metadata": {
        "id": "A0XYex1waEr9"
      },
      "source": [
        "#Membuat 2 list\n",
        "L1 = [1, 2, 3, 4]\n",
        "L2 = [5, 6, 7, 8]"
      ],
      "execution_count": 2,
      "outputs": []
    },
    {
      "cell_type": "code",
      "metadata": {
        "colab": {
          "base_uri": "https://localhost:8080/"
        },
        "id": "o-W8nvORo-Bf",
        "outputId": "e8ebc339-90ec-4a8a-9fb4-72b52e371942"
      },
      "source": [
        "#Mengkonversi Struktur Data List\n",
        "k_tuple = tuple(L1)\n",
        "k_set = set(L2)\n",
        "k_dict = dict(zip(L1, L2))\n",
        "\n",
        "#Melihat Data yang Telah Dikonversi\n",
        "print(k_tuple)\n",
        "print(k_set)\n",
        "print(k_dict)"
      ],
      "execution_count": 3,
      "outputs": [
        {
          "output_type": "stream",
          "name": "stdout",
          "text": [
            "(1, 2, 3, 4)\n",
            "{8, 5, 6, 7}\n",
            "{1: 5, 2: 6, 3: 7, 4: 8}\n"
          ]
        }
      ]
    },
    {
      "cell_type": "markdown",
      "metadata": {
        "id": "6VfKYPmPqJnl"
      },
      "source": [
        "###Mengkonversi Tipe Data Tuple:"
      ]
    },
    {
      "cell_type": "code",
      "metadata": {
        "id": "fu5WodfAn1N5"
      },
      "source": [
        "#Membuat Dua Tuple\n",
        "T1 = (1, 2, 3, 4)\n",
        "T2 = (5, 6, 7, 8)"
      ],
      "execution_count": 4,
      "outputs": []
    },
    {
      "cell_type": "code",
      "metadata": {
        "colab": {
          "base_uri": "https://localhost:8080/"
        },
        "id": "MykRH65dqge7",
        "outputId": "ed9f1f41-2a92-49c1-92f7-00107218cc7a"
      },
      "source": [
        "#Mengkonversi Struktur Data Tuple\n",
        "k_list = list(T1)\n",
        "k_set = set(T2)\n",
        "k_dict = dict(zip(T1, T2))\n",
        "\n",
        "#Melihat Data yang Telah Dikonversi\n",
        "print(k_list)\n",
        "print(k_set)\n",
        "print(k_dict)"
      ],
      "execution_count": 6,
      "outputs": [
        {
          "output_type": "stream",
          "name": "stdout",
          "text": [
            "[1, 2, 3, 4]\n",
            "{8, 5, 6, 7}\n",
            "{1: 5, 2: 6, 3: 7, 4: 8}\n"
          ]
        }
      ]
    },
    {
      "cell_type": "markdown",
      "metadata": {
        "id": "-Vkhrr5Bq3md"
      },
      "source": [
        "###Mengkonversi Tipe Data Set:"
      ]
    },
    {
      "cell_type": "code",
      "metadata": {
        "id": "uBkWhD4Qq7D7"
      },
      "source": [
        "#Membuat dua set\n",
        "S1 = {1, 2, 3, 4}\n",
        "S2 = {5, 6, 7, 8}"
      ],
      "execution_count": 7,
      "outputs": []
    },
    {
      "cell_type": "code",
      "metadata": {
        "colab": {
          "base_uri": "https://localhost:8080/"
        },
        "id": "cBSmY9X8rGjE",
        "outputId": "0f41f9fa-71e9-408f-b66c-3e6c27c72369"
      },
      "source": [
        "#Mengkonversi Struktur Data Set\n",
        "k_list = list(S1)\n",
        "k_tuple = tuple(S2)\n",
        "k_dict = dict(zip(S1, S2))\n",
        "\n",
        "#Melihat Data yang Telah Dikonversi\n",
        "print(k_list)\n",
        "print(k_tuple)\n",
        "print(k_dict)"
      ],
      "execution_count": 8,
      "outputs": [
        {
          "output_type": "stream",
          "name": "stdout",
          "text": [
            "[1, 2, 3, 4]\n",
            "(8, 5, 6, 7)\n",
            "{1: 8, 2: 5, 3: 6, 4: 7}\n"
          ]
        }
      ]
    },
    {
      "cell_type": "markdown",
      "metadata": {
        "id": "5h5aAg9trd1Q"
      },
      "source": [
        "###Mengkonversi Tipe Data Dictionary:"
      ]
    },
    {
      "cell_type": "code",
      "metadata": {
        "id": "Y_pVpkaArg-D"
      },
      "source": [
        "#Membuat Dictionary\n",
        "D = {\n",
        "    \"nama\": \"Andi\",\n",
        "    \"alamat\" : \"Yogyakarta\",\n",
        "    \"umur\": 20\n",
        "}"
      ],
      "execution_count": 9,
      "outputs": []
    },
    {
      "cell_type": "code",
      "metadata": {
        "colab": {
          "base_uri": "https://localhost:8080/"
        },
        "id": "AVqkRGW4rtXQ",
        "outputId": "325b315d-c05e-4768-f14b-f6227b72c8f6"
      },
      "source": [
        "#Mengkonversi Struktur Data Dictionary dari Key dan Value-nya\n",
        "k_list = list(D.keys())\n",
        "k_tuple = tuple(D.values())\n",
        "k_set = set(D.keys())\n",
        "\n",
        "#Melihat Data yang Telah Dikonversi\n",
        "print(k_list)\n",
        "print(k_tuple)\n",
        "print(k_set)"
      ],
      "execution_count": 11,
      "outputs": [
        {
          "output_type": "stream",
          "name": "stdout",
          "text": [
            "['nama', 'alamat', 'umur']\n",
            "('Andi', 'Yogyakarta', 20)\n",
            "{'umur', 'nama', 'alamat'}\n"
          ]
        }
      ]
    },
    {
      "cell_type": "markdown",
      "metadata": {
        "id": "yeDJpzhxsFjI"
      },
      "source": [
        "**Latihan**"
      ]
    },
    {
      "cell_type": "code",
      "metadata": {
        "colab": {
          "base_uri": "https://localhost:8080/"
        },
        "id": "TQpEhD4WsHX1",
        "outputId": "300cc5b3-cdf8-4892-b8a7-1b0fe68d1e0f"
      },
      "source": [
        "#Lakukan konversi struktur data yang kalian buat pada notebook-notebook sebelumnya menjadi list, tuple, set, dan dictionary (masing-masing satu)\n",
        "\n",
        "#Mengkonversi Tipe Data List menjadi Tuple\n",
        "L3 = [0.2, 25, \"tiga\", 0.35]\n",
        "L4 = [\"kalimat\", 4+5j, 2]\n",
        "\n",
        "k_tuple = tuple(L3)\n",
        "\n",
        "print(k_tuple)"
      ],
      "execution_count": 14,
      "outputs": [
        {
          "output_type": "stream",
          "name": "stdout",
          "text": [
            "(0.2, 25, 'tiga', 0.35)\n"
          ]
        }
      ]
    },
    {
      "cell_type": "code",
      "metadata": {
        "colab": {
          "base_uri": "https://localhost:8080/"
        },
        "id": "tZGs4NYKwpxM",
        "outputId": "45bb5cbb-b0cd-49cd-e897-beadd685b88f"
      },
      "source": [
        "#Mengkonversi Tipe Data Tuple menjadi Set\n",
        "T3 = (\"bisa\", \"di\", 22, True)\n",
        "T4 = (4.0, 2023,False, 10+2j)\n",
        "\n",
        "k_set = set(T4)\n",
        "\n",
        "print(k_set)"
      ],
      "execution_count": 15,
      "outputs": [
        {
          "output_type": "stream",
          "name": "stdout",
          "text": [
            "{False, 4.0, (10+2j), 2023}\n"
          ]
        }
      ]
    },
    {
      "cell_type": "code",
      "metadata": {
        "colab": {
          "base_uri": "https://localhost:8080/"
        },
        "id": "dlcTJgjwyiX7",
        "outputId": "80cca7e3-1bfe-4a55-d764-faea5ddd7859"
      },
      "source": [
        "#Mengkonversi Tipe Data Set menjadi Dictionary\n",
        "S3 = {'Angka Favorit', 'Minuman favorit', 'Makanan Favorit'}\n",
        "S4 = {9, 'Jus Alpukat', 'Mie Ayam'}\n",
        "\n",
        "k_dict = dict(zip(S3, S4))\n",
        "\n",
        "print(k_dict)"
      ],
      "execution_count": 24,
      "outputs": [
        {
          "output_type": "stream",
          "name": "stdout",
          "text": [
            "{'Makanan Favorit': 'Mie Ayam', 'Angka Favorit': 9, 'Minuman favorit': 'Jus Alpukat'}\n"
          ]
        }
      ]
    },
    {
      "cell_type": "code",
      "metadata": {
        "colab": {
          "base_uri": "https://localhost:8080/"
        },
        "id": "y4Wze0BYxX2A",
        "outputId": "d1c0c386-3361-4464-9de6-fb66ec15f569"
      },
      "source": [
        "#Mengkonversi Tipe Data Dictionary menjadi List\n",
        "D2 = {5:'pejuang', 'data':0, True:'sains'}\n",
        "\n",
        "k_list = list(D2.keys())\n",
        "\n",
        "print(k_list)"
      ],
      "execution_count": 20,
      "outputs": [
        {
          "output_type": "stream",
          "name": "stdout",
          "text": [
            "[5, 'data', True]\n"
          ]
        }
      ]
    }
  ]
}