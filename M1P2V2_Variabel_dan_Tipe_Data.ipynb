{
  "nbformat": 4,
  "nbformat_minor": 0,
  "metadata": {
    "colab": {
      "name": "M1P2V2_Variabel_dan_Tipe_Data.ipynb",
      "provenance": [],
      "collapsed_sections": []
    },
    "kernelspec": {
      "name": "python3",
      "display_name": "Python 3"
    },
    "language_info": {
      "name": "python"
    }
  },
  "cells": [
    {
      "cell_type": "markdown",
      "metadata": {
        "id": "CgwhV03SHL-5"
      },
      "source": [
        "#Variabel & Tipe Data"
      ]
    },
    {
      "cell_type": "markdown",
      "metadata": {
        "id": "pGEMKX8kHVDZ"
      },
      "source": [
        "##Variabel"
      ]
    },
    {
      "cell_type": "markdown",
      "metadata": {
        "id": "-XqSkxuBHdmK"
      },
      "source": [
        "**Variables:**  Lokasi penyimpanan yang dapat digunakan untuk menampung sebuah data atau informasi.\n",
        "\n",
        "Syarat-syarat penamaan variabel\n",
        "1. Karaktek-karakter yang digunakan untuk penamaan variable adalah alphabet, angka, dan underscore.\n",
        "2. Karakter pertama variable harus berupa huruf atau garis bawah/underscore, dan tidak bisa berupa angka.\n",
        "3. Nama sebuah variabel tidak bisa menggunakan keyword atau reserved words dari baasa python seperti for, if, dan lainnya.\n",
        "4. Karakter pada nama variabel bersifat sensitif (case-sensitif)."
      ]
    },
    {
      "cell_type": "code",
      "metadata": {
        "id": "x0wwLYKWGlSX"
      },
      "source": [
        "# membuat variabel\n",
        "kalimat = 'ini adalah variabel'\n",
        "bilangan1 = 4\n",
        "bilangan2 = 2.5\n",
        "bilangan3 = True\n",
        "bilangan4 = 1j + 4"
      ],
      "execution_count": 1,
      "outputs": []
    },
    {
      "cell_type": "code",
      "metadata": {
        "colab": {
          "base_uri": "https://localhost:8080/"
        },
        "id": "TDtwPGHgIiXm",
        "outputId": "398e11cf-74e6-4213-fe89-9a0211c96cda"
      },
      "source": [
        "# menampilkan variabel\n",
        "print (kalimat)\n",
        "print (bilangan1)\n",
        "print (bilangan2)"
      ],
      "execution_count": 2,
      "outputs": [
        {
          "output_type": "stream",
          "name": "stdout",
          "text": [
            "ini adalah variabel\n",
            "4\n",
            "2.5\n"
          ]
        }
      ]
    },
    {
      "cell_type": "markdown",
      "metadata": {
        "id": "SAWTmjINIrV9"
      },
      "source": [
        "**Latihan 1**"
      ]
    },
    {
      "cell_type": "code",
      "metadata": {
        "colab": {
          "base_uri": "https://localhost:8080/"
        },
        "id": "yXhEVC5iIpgq",
        "outputId": "bfa018c3-90b5-4964-d6ab-8919dd381a6f"
      },
      "source": [
        "# Buatlah 5 variabel kalian sendiri dengan 5 macam tipe data lalu tampilkan variabel menggunakan fungsi print\n",
        "\n",
        "#Membuat variabel\n",
        "var1 = 'happy world'\n",
        "var2 = 7\n",
        "var3 = 0.3\n",
        "var4 = False\n",
        "var5 = 5j+4\n",
        "\n",
        "#Menampilkan variabel\n",
        "print(var1)\n",
        "print(var2)\n",
        "print(var3)\n",
        "print(var4)\n",
        "print(var5)"
      ],
      "execution_count": 14,
      "outputs": [
        {
          "output_type": "stream",
          "name": "stdout",
          "text": [
            "happy world\n",
            "7\n",
            "0.3\n",
            "False\n",
            "(4+5j)\n"
          ]
        }
      ]
    },
    {
      "cell_type": "markdown",
      "metadata": {
        "id": "Q615HodDI4P7"
      },
      "source": [
        "##Tipe Data"
      ]
    },
    {
      "cell_type": "markdown",
      "metadata": {
        "id": "U92CB9BKdBKl"
      },
      "source": [
        "5 tipe data yaitu:\n",
        "1. Integer atau bilangan bulat\n",
        "2. Float atau bilangan desimal\n",
        "3. String atau kalimat\n",
        "4. Boolean yang terdiri dari True dan False\n",
        "5. Complex yang merupakan bilangan kompleks"
      ]
    },
    {
      "cell_type": "code",
      "metadata": {
        "colab": {
          "base_uri": "https://localhost:8080/"
        },
        "id": "QjeOFHDoI5uj",
        "outputId": "ae78cffa-ad6b-4643-a948-b1e01071a253"
      },
      "source": [
        "# menampilkan tipe data\n",
        "print(type(kalimat)) \n",
        "print(type(bilangan1)) \n",
        "print(type(bilangan2))\n",
        "print(type(bilangan3))\n",
        "print(type(bilangan4))"
      ],
      "execution_count": 19,
      "outputs": [
        {
          "output_type": "stream",
          "name": "stdout",
          "text": [
            "<class 'str'>\n",
            "<class 'int'>\n",
            "<class 'float'>\n",
            "<class 'bool'>\n",
            "<class 'complex'>\n"
          ]
        }
      ]
    },
    {
      "cell_type": "markdown",
      "metadata": {
        "id": "36yW_AqEJnj4"
      },
      "source": [
        "**Latihan 2**"
      ]
    },
    {
      "cell_type": "code",
      "metadata": {
        "colab": {
          "base_uri": "https://localhost:8080/"
        },
        "id": "7VE2SvOKJkXa",
        "outputId": "d93d7da9-4752-4111-f6be-61868929d715"
      },
      "source": [
        "# Cek tipe data variabel yang telah kalian buat pada latihan 1\n",
        "print(type(var1)) \n",
        "print(type(var2)) \n",
        "print(type(var3))\n",
        "print(type(var4))\n",
        "print(type(var5))"
      ],
      "execution_count": 15,
      "outputs": [
        {
          "output_type": "stream",
          "name": "stdout",
          "text": [
            "<class 'str'>\n",
            "<class 'int'>\n",
            "<class 'float'>\n",
            "<class 'bool'>\n",
            "<class 'complex'>\n"
          ]
        }
      ]
    },
    {
      "cell_type": "markdown",
      "metadata": {
        "id": "NV7h5yZXJvy0"
      },
      "source": [
        "##Konversi Tipe Data"
      ]
    },
    {
      "cell_type": "markdown",
      "metadata": {
        "id": "y_HiVkB3J0LB"
      },
      "source": [
        "Syntax konversi tipe data:\n",
        "1. Integer = int()\n",
        "2. Float = float()\n",
        "3. String = str()\n",
        "4. Boolean = bool()\n",
        "5. Complex = Complex()"
      ]
    },
    {
      "cell_type": "code",
      "metadata": {
        "colab": {
          "base_uri": "https://localhost:8080/"
        },
        "id": "o7E_RE41JzQI",
        "outputId": "3a0b4e77-0ce8-4391-f4a3-7676a644f428"
      },
      "source": [
        "# konversi tipe data integer\n",
        "print(int(bilangan2))\n",
        "print(int(bilangan3))"
      ],
      "execution_count": 4,
      "outputs": [
        {
          "output_type": "stream",
          "name": "stdout",
          "text": [
            "2\n",
            "1\n"
          ]
        }
      ]
    },
    {
      "cell_type": "code",
      "metadata": {
        "colab": {
          "base_uri": "https://localhost:8080/"
        },
        "id": "gYgde-P8KRly",
        "outputId": "b59c4d5c-20ca-41d8-e6a4-97f2f62cf6c4"
      },
      "source": [
        "# konversi tipe data float\n",
        "print(float(bilangan1))\n",
        "print(float(bilangan3))"
      ],
      "execution_count": 5,
      "outputs": [
        {
          "output_type": "stream",
          "name": "stdout",
          "text": [
            "4.0\n",
            "1.0\n"
          ]
        }
      ]
    },
    {
      "cell_type": "code",
      "metadata": {
        "colab": {
          "base_uri": "https://localhost:8080/"
        },
        "id": "PG0cpETQKYjf",
        "outputId": "dc0cd3fc-c3be-4b4e-e73d-869e2ae55b34"
      },
      "source": [
        "# konversi tipe data string\n",
        "print(str(bilangan1))\n",
        "print(str(bilangan2))\n",
        "print(str(bilangan3))"
      ],
      "execution_count": 6,
      "outputs": [
        {
          "output_type": "stream",
          "name": "stdout",
          "text": [
            "4\n",
            "2.5\n",
            "True\n"
          ]
        }
      ]
    },
    {
      "cell_type": "code",
      "metadata": {
        "colab": {
          "base_uri": "https://localhost:8080/"
        },
        "id": "Se3zPZvUKb2W",
        "outputId": "3a9238c5-0d04-4331-a306-71872311ba25"
      },
      "source": [
        "# konversi tipe data bool\n",
        "print(bool(bilangan1))\n",
        "print(bool(bilangan2))"
      ],
      "execution_count": 7,
      "outputs": [
        {
          "output_type": "stream",
          "name": "stdout",
          "text": [
            "True\n",
            "True\n"
          ]
        }
      ]
    },
    {
      "cell_type": "code",
      "metadata": {
        "colab": {
          "base_uri": "https://localhost:8080/"
        },
        "id": "lHHUteZVK7X4",
        "outputId": "cfc34fdf-fb9c-4337-b329-5a574274115d"
      },
      "source": [
        "# konversi tipe data complex\n",
        "print(complex(bilangan1))\n",
        "print(complex(bilangan2))\n",
        "print(complex(bilangan3))"
      ],
      "execution_count": 8,
      "outputs": [
        {
          "output_type": "stream",
          "name": "stdout",
          "text": [
            "(4+0j)\n",
            "(2.5+0j)\n",
            "(1+0j)\n"
          ]
        }
      ]
    },
    {
      "cell_type": "markdown",
      "metadata": {
        "id": "j1Pnpy_3LEAP"
      },
      "source": [
        "**Latihan 3**"
      ]
    },
    {
      "cell_type": "code",
      "metadata": {
        "colab": {
          "base_uri": "https://localhost:8080/"
        },
        "id": "3QUhfYYrLC9q",
        "outputId": "fe4c061e-9230-4eb5-b601-53c20fa52fd4"
      },
      "source": [
        "# Konversi tipe data variabel yang telah kalian buat menjadi berbagai macam tipe data\n",
        "\n",
        "print('konversi tipe data integer')\n",
        "print(int(var3))\n",
        "print(int(var4))\n",
        "print(' ')\n",
        "\n",
        "print('konversi tipe data float')\n",
        "print(float(var2))\n",
        "print(float(var4))\n",
        "print(' ')\n",
        "\n",
        "print('konversi tipe data string')\n",
        "print(str(var2))\n",
        "print(str(var3))\n",
        "print(str(var4))\n",
        "print(' ')\n",
        "\n",
        "print('konversi tipe data bool')\n",
        "print(bool(var2))\n",
        "print(bool(var3))\n",
        "print(' ')\n",
        "\n",
        "print('konversi tipe data complex')\n",
        "print(complex(var2))\n",
        "print(complex(var3))\n",
        "print(complex(var4))"
      ],
      "execution_count": 18,
      "outputs": [
        {
          "output_type": "stream",
          "name": "stdout",
          "text": [
            "konversi tipe data integer\n",
            "0\n",
            "0\n",
            " \n",
            "konversi tipe data float\n",
            "7.0\n",
            "0.0\n",
            " \n",
            "konversi tipe data string\n",
            "7\n",
            "0.3\n",
            "False\n",
            " \n",
            "konversi tipe data bool\n",
            "True\n",
            "True\n",
            " \n",
            "konversi tipe data complex\n",
            "(7+0j)\n",
            "(0.3+0j)\n",
            "0j\n"
          ]
        }
      ]
    },
    {
      "cell_type": "code",
      "metadata": {
        "id": "8WHAM1DZU-qn"
      },
      "source": [
        ""
      ],
      "execution_count": null,
      "outputs": []
    }
  ]
}